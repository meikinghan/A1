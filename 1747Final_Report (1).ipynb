{
  "nbformat": 4,
  "nbformat_minor": 0,
  "metadata": {
    "colab": {
      "provenance": []
    },
    "kernelspec": {
      "name": "python3",
      "display_name": "Python 3"
    },
    "language_info": {
      "name": "python"
    }
  },
  "cells": [
    {
      "cell_type": "code",
      "source": [
        "!pip install haversine\n",
        "!pip install simanneal\n",
        "!pip install pyswarms\n",
        "!pip install pymoo\n",
        "!pip install folium\n",
        "!pip install geoplot\n",
        "!pip install matplotlib\n",
        "import time\n",
        "\n",
        "import numpy as np\n",
        "import pandas as pd\n",
        "from collections import defaultdict\n",
        "from haversine import haversine\n",
        "import networkx as nx\n",
        "import matplotlib.pyplot as plt\n",
        "import random\n",
        "import math\n",
        "import time\n",
        "import pyswarms as ps\n",
        "import geopandas as gpd\n",
        "import folium\n",
        "import matplotlib.pyplot as plt\n",
        "import geoplot\n",
        "from folium.plugins import MarkerCluster\n",
        "from folium.plugins import HeatMap\n"
      ],
      "metadata": {
        "colab": {
          "base_uri": "https://localhost:8080/"
        },
        "id": "Iqcare9d1AH-",
        "outputId": "84a98230-79a0-4974-dd21-189af5e1f37e"
      },
      "execution_count": null,
      "outputs": [
        {
          "output_type": "stream",
          "name": "stdout",
          "text": [
            "Collecting haversine\n",
            "  Downloading haversine-2.8.0-py2.py3-none-any.whl (7.7 kB)\n"
          ]
        }
      ]
    },
    {
      "cell_type": "code",
      "source": [
        "#here we select some sample location points for better visulize how the algorithm works\n",
        "city_dic = {\n",
        "    'Thorncliffe Parl Public School': (43.70548545348342, -79.3430794474666),\n",
        "    'Student 1 Roanoke Apt': (43.74105199944502, -79.32850826280696),\n",
        "\n",
        "    'student 3 Lawrance Apt': (43.738524163584984, -79.34149211798413),\n",
        "    'student 4 Super Sonic Condos':(43.71957929031141, -79.33595881597378),\n",
        "    'Intersection 1 (Eglinton&Don Mills)':(43.7207386416841, -79.33882906166014),\n",
        "    'Intersection 2 (Lawrence&Don Mills)':(43.737422024371426, -79.34352888079776),\n",
        "    'DVP_Enter/End':(43.72331679647265, -79.33020300398714),\n",
        "    'DVP_End/Enter':(43.737037, -79.331921)\n",
        "}\n",
        "    # 'Intersection 3 (Beth & Wicksteed)':(43.713378, -79.346490),\n",
        "    # 'Intersection 4 (Wicksteed & Brentcliffe)':(43.712899, -79.350669),\n",
        "    # 'Inter 5 (Brentcliffe & Eglinton)':(43.714640, -79.359839),\n",
        "    # 'student 2 H&R Apt': (43.727444179004465, -79.32466485355351),\n",
        "\n",
        "\n",
        "# center the map around the first location in the dictionary\n",
        "first_location_name, first_location_coords = next(iter(city_dic.items()))\n",
        "\n",
        "# Create a map object centered around the first location\n",
        "m = folium.Map(location=first_location_coords, zoom_start=13)\n",
        "\n",
        "# Iterate over each item in the city_dic and add markers on the map\n",
        "#The red marker represents the starting/ending point: Thorncliffe Park Public School\n",
        "for place, coords in city_dic.items():\n",
        "    # Check if the current place is \"Thorncliffe Park Public School\"\n",
        "    if place == 'Thorncliffe Park Public School':\n",
        "        # If it is, create a marker with a red icon\n",
        "        folium.Marker(\n",
        "            location=coords,\n",
        "            popup=place,\n",
        "            icon=folium.Icon(color='red')  # Red color for the school\n",
        "        ).add_to(m)\n",
        "    else:\n",
        "        # For all other places, use blue icons\n",
        "        folium.Marker(\n",
        "            location=coords,\n",
        "            popup=place,\n",
        "            icon=folium.Icon(color='blue')\n",
        "        ).add_to(m)\n",
        "\n",
        "# Display the map\n",
        "m"
      ],
      "metadata": {
        "id": "ziG_mm-NvBM4"
      },
      "execution_count": null,
      "outputs": []
    },
    {
      "cell_type": "code",
      "source": [
        "# weather config\n",
        "current_weather = 1 # 0 means good weather, 1 means snow or rainy weather"
      ],
      "metadata": {
        "id": "hZCH7u5NfuTA"
      },
      "execution_count": null,
      "outputs": []
    },
    {
      "cell_type": "code",
      "execution_count": null,
      "metadata": {
        "id": "1WR2ZKBR01v4"
      },
      "outputs": [],
      "source": [
        "\n",
        "\n",
        "#Define the function for heavy-traffic and high-crime roads with a relatively high weight.\n",
        "#Note here city means each location point\n",
        "#We assign different weight on traffic_level, criminal_level, weather\n",
        "\n",
        "def get_traffic_level(city1, city2):\n",
        "    if (city1, city2) in [('DVP_Enter/End', 'DVP_End/Enter'), ('DVP_End/Enter', 'DVP_Enter/End')]:\n",
        "        # return float('inf')\n",
        "        return 10  # Here 10 represents a high traffic-level\n",
        "    return 1  # 1 represents a normal traffic level for other paths\n",
        "\n",
        "def get_criminal_level(city1, city2):\n",
        "    if (city1, city2) in [('Thorncliffe Parl Public School', 'Intersection 2 (Lawrence&Don Mills)'), ('Intersection 2 (Lawrence&Don Mills)', 'Thorncliffe Parl Public School')]:\n",
        "        # return float('inf')\n",
        "        return 10  # Here 10 represents a high criminal-level\n",
        "    return 1  # 1 represents a normal criminal level for other paths\n",
        "def get_weather_level(weather):\n",
        "    if (weather==1):\n",
        "        return 10\n",
        "    return 1\n",
        "\n",
        "city_dic = {\n",
        "    'Thorncliffe Parl Public School': (43.70548545348342, -79.3430794474666),\n",
        "    'Student 1 Roanoke Apt': (43.74105199944502, -79.32850826280696),\n",
        "    'student 3 Lawrance Apt': (43.738524163584984, -79.34149211798413),\n",
        "    'student 4 Super Sonic Condos':(43.71957929031141, -79.33595881597378),\n",
        "    'Intersection 1 (Eglinton&Don Mills)':(43.7207386416841, -79.33882906166014),\n",
        "    'Intersection 2 (Lawrence&Don Mills)':(43.737422024371426, -79.34352888079776),\n",
        "    'DVP_Enter/End':(43.72331679647265, -79.33020300398714),\n",
        "    'DVP_End/Enter':(43.737037, -79.331921)\n",
        "}\n",
        "edge_labels = {\n",
        "    ('DVP_End/Enter', 'DVP_Enter/End'): 'Heavy Traffic',  # Label for heavy traffic\n",
        "    ('Thorncliffe Parl Public School', 'Intersection 2 (Lawrence&Don Mills)'): 'High Crime'  # Label for high crime\n",
        "}\n",
        "#loop the dictionary twice and check to make sure each location are not the same to avoid it connects itself\n",
        "distance_2cities = defaultdict(dict)\n",
        "for city1,city1_coords in city_dic.items():\n",
        "  for city2, city2_coords in city_dic.items():\n",
        "    if city1 == city2:\n",
        "      distance_2cities[city1][city2] = 0.0\n",
        "    else:\n",
        "      distance_2cities[city1][city2] = haversine(city1_coords, city2_coords)\n",
        "\n",
        "# Convert distance diccionary into a dataframe\n",
        "distances_pandaFrame = pd.DataFrame(distance_2cities)\n",
        "city_names=list(distances_pandaFrame.columns)#convert each column into list type. (each item in list can be anything)\n",
        "distances=distances_pandaFrame.values #extract the values"
      ]
    },
    {
      "cell_type": "markdown",
      "source": [
        "Creat the map on the network graph to better visulize our pircked points and doing the analysis"
      ],
      "metadata": {
        "id": "tWqGHFsiu5qr"
      }
    },
    {
      "cell_type": "code",
      "source": [
        "G=nx.Graph()#create a networking graph with nodes as cities, distance as edges\n",
        "#add edges to G\n",
        "\n",
        "\n",
        "# Initialize an empty dictionary for the reversed value because Network assumes data in (horizontal,vertical)\n",
        "reversed_dict = {}\n",
        "\n",
        "# Loop and reverse each value\n",
        "for key, value in city_dic.items():\n",
        "    reversed_dict[key] = value[::-1]\n",
        "\n",
        "for city1, city1_coords in city_dic.items():\n",
        "    for city2, city2_coords in city_dic.items():\n",
        "        if city1 != city2:  # Check to ensure cities are not the same to avoid it connects itself\n",
        "            distance = distance_2cities[city1][city2]\n",
        "            G.add_edge(city1, city2, weight=distance)\n",
        "\n",
        "fig, ax = plt.subplots(figsize=(15,10))\n",
        "\n",
        "#remobve some unnecessary connections\n",
        "G.remove_edge('Thorncliffe Parl Public School', 'student 3 Lawrance Apt')\n",
        "G.remove_edge('Thorncliffe Parl Public School', 'Student 1 Roanoke Apt')\n",
        "G.remove_edge('Thorncliffe Parl Public School', 'DVP_End/Enter')\n",
        "# G.remove_edge('Intersection 2 (Lawrence&Don Mills)', 'student 2 H&R Apt')\n",
        "G.remove_edge('Intersection 2 (Lawrence&Don Mills)', 'Student 1 Roanoke Apt')\n",
        "G.remove_edge('student 3 Lawrance Apt', 'DVP_End/Enter')\n",
        "\n",
        "# Create an independent copy\n",
        "H = G.copy()\n",
        "\n",
        "# Draw the network\n",
        "ax=nx.draw_networkx(\n",
        "    H,\n",
        "    pos=reversed_dict,#pos is the coordates of nodes\n",
        "    with_labels=True,#display names\n",
        "    edge_color=\"grey\",\n",
        "    node_size=200,\n",
        "    width=1,#line thickness of edge\n",
        ")\n",
        "\n",
        "# Draw edge labels\n",
        "nx.draw_networkx_edge_labels(\n",
        "    H,\n",
        "    pos=reversed_dict,\n",
        "    edge_labels=edge_labels,\n",
        "    font_color='red',\n",
        ")\n",
        "\n",
        "plt.show()"
      ],
      "metadata": {
        "id": "Ts3pKut_06kL"
      },
      "execution_count": null,
      "outputs": []
    },
    {
      "cell_type": "markdown",
      "source": [
        "Define Cost Functions"
      ],
      "metadata": {
        "id": "t0Y-9Axi56zv"
      }
    },
    {
      "cell_type": "code",
      "source": [
        "\n",
        " #define the distance and traffic_volume as an extra heuristic infromation to be considered\n",
        "traffic_volume = {\n",
        "    ('DVP_Enter/End', 'DVP_End/Enter'): 10,  # High traffic path with a high weight\n",
        "\n",
        "}\n",
        "criminal_info = {\n",
        "    ('Thorncliffe Parl Public School',  'Intersection 2 (Lawrence&Don Mills)'):10,\n",
        "}\n",
        "weather_info = {\n",
        "    ('Thorncliffe Parl Public School',  'student 4 Super Sonic Condos'):3,\n",
        "    ('Thorncliffe Parl Public School',  'Intersection 1 (Eglinton&Don Mills)'):5,\n",
        "    ('Intersection 2 (Lawrence&Don Mills)', 'student 3 Lawrance Apt'):7,\n",
        "    ('Intersection 1 (Eglinton&Don Mills)', 'DVP_End/Enter'):6,\n",
        "    ('DVP_End/Enter', 'Student 1 Roanoke Apt'):4,\n",
        "    ('Intersection 2 (Lawrence&Don Mills)', 'Intersection 1 (Eglinton&Don Mills)'):2,\n",
        "}\n",
        "def get_traffic_weight(path_segment, traffic_volume):\n",
        "    # Retrieve the traffic weight for a given path segment from traffic_volume\n",
        "    return traffic_volume.get(path_segment, 1)\n",
        "\n",
        "# def cost_function(path, distances, traffic_volume):\n",
        "#     path_cost = 0\n",
        "#     for i in range(len(path) - 1):\n",
        "#         path_segment = (city_names[path[i]], city_names[path[i+1]])\n",
        "#         distance = distances[path[i], path[i+1]]\n",
        "#         traffic_weight = get_traffic_weight(path_segment, traffic_volume)\n",
        "#         # criminal_weight = get_criminal_weight(path_segment, criminal_rate)\n",
        "#         path_cost += distance * traffic_weight#*criminal_weight#update the cost with the weight of traffic volume\n",
        "#     return path_cost\n",
        "\n",
        "def get_criminal_weight(path_segment, criminal_info):\n",
        "    # Retrieve the criminal weight for a given path segment from criminal_info\n",
        "    return criminal_info.get(path_segment, 1)  # default criminal weight is 1\n",
        "\n",
        "def get_weather_weight(path_segment, weather_info):\n",
        "   # Retrieve the weather weight for a given path segment from weather_info\n",
        "    return weather_info.get(path_segment, 1) # default weather weight is 1\n",
        "\n",
        "#define cost function\n",
        "def cost_function(path, distances, traffic_info, criminal_info, weather_info):\n",
        "    path_cost = 0\n",
        "    for i in range(len(path) - 1):\n",
        "        path_segment = (city_names[path[i]], city_names[path[i+1]])\n",
        "        distance = distances[path[i], path[i+1]]\n",
        "        traffic_weight = get_traffic_weight(path_segment, traffic_info)\n",
        "        criminal_weight = get_criminal_weight(path_segment, criminal_info)\n",
        "        weather_weight = get_weather_weight(path_segment, weather_info)\n",
        "        path_cost += distance * traffic_weight * criminal_weight * weather_weight\n",
        "    return path_cost\n"
      ],
      "metadata": {
        "id": "MdWDgWWyIC36"
      },
      "execution_count": null,
      "outputs": []
    },
    {
      "cell_type": "code",
      "source": [
        "#paths is initialized as a NumPy array to store the path for each ant.\n",
        "#The dimensions are (ants, city_count), representing the number of ants and the number of cities, respectively.\n",
        "city_count = 8\n",
        "ants = 30\n",
        "alpha = 0.5\n",
        "beta = 1.5 #here we assign a relatively high beta value for increaseing the power of the heuristic information\n",
        "pheromones = np.ones((city_count, city_count))\n",
        "\n",
        "\n",
        "def ant_tour(pheromones):\n",
        "    all_possible_paths = np.empty((30, city_count+1), dtype=int) #an empty 2D array to store all possible paths. 10 is because ant go back to school (9+1)\n",
        "    #for each ant:\n",
        "    for ant in range(ants):\n",
        "      path = [0]#all ants need to start from 1st city, let's assume it is 0 stored in a list\n",
        "      unvisited_cities = list(range(1, city_count)) #unvisited_cities = [1,2,...,9]\n",
        "\n",
        "      while unvisited_cities:\n",
        "          current_city = path[-1] #the most recent city that ant visited (for itration 1, path[-1] is 0)\n",
        "          probabilities = []\n",
        "\n",
        "          for city in unvisited_cities:\n",
        "            tau = pheromones[current_city, city]#here pheromones is a ones matrix\n",
        "\n",
        "            distance_heuristic = distances[current_city, city]\n",
        "\n",
        "            traffic_heuristic = get_traffic_level(current_city, city)\n",
        "            #eta = (1/distance_heuristic)/traffic_heuristic #compute eta by including heuristic information in the denominator.\n",
        "            # eta = 1/(distance_heuristic*traffic_heuristic)\n",
        "\n",
        "            criminal_heuristic = get_criminal_level(current_city, city)\n",
        "\n",
        "            weather_heuristic = get_weather_level(current_weather)\n",
        "\n",
        "            eta = 1/(distance_heuristic*traffic_heuristic*criminal_heuristic*weather_heuristic)\n",
        "\n",
        "            probabilities.append((tau** alpha)*(eta ** beta)) #compute probability of the ant to select the next path\n",
        "\n",
        "          probabilities /= sum(probabilities)\n",
        "          next_city = random.choices(unvisited_cities, weights=probabilities)[0]\n",
        "          unvisited_cities.remove(next_city)\n",
        "          path.append(next_city)#record the path(route)for each ant\n",
        "      path.append(0)#make the ant go back to School\n",
        "      all_possible_paths[ant] = path#store the recorded path into paths matrix\n",
        "\n",
        "    return all_possible_paths"
      ],
      "metadata": {
        "id": "fGxmeF0VIOlS"
      },
      "execution_count": null,
      "outputs": []
    },
    {
      "cell_type": "code",
      "source": [
        "evaporation_rate = 0.5\n",
        "Q=100\n",
        "\n",
        "def update_pheromones(distances_paths, all_possible_paths, pheromones):\n",
        "    delta_pheromones = np.zeros((city_count, city_count))\n",
        "\n",
        "    for i in range(ants):\n",
        "        for j in range(city_count-1):\n",
        "            #here update pheronmone between each two city (path)based on each ant's route\n",
        "            delta_pheromones[all_possible_paths[i, j], all_possible_paths[i, j+1]] += Q / distances_paths[i]\n",
        "        delta_pheromones[all_possible_paths[i, -1], all_possible_paths[i, 0]] += Q / distances_paths[i]\n",
        "\n",
        "    update_phero_values=(1 - evaporation_rate) * pheromones + delta_pheromones\n",
        "    return update_phero_values"
      ],
      "metadata": {
        "id": "0l1IGM5uIjID"
      },
      "execution_count": null,
      "outputs": []
    },
    {
      "cell_type": "code",
      "source": [
        "def run_ACO(distances, ants, iterations, alpha, beta, evaporation_rate, Q):\n",
        "    # start_time = time.time()  # Start timing\n",
        "    pheromones = np.ones((city_count, city_count))\n",
        "    best_path = None\n",
        "    infinity = float('inf')#set to infinity to help to find the minimum value\n",
        "\n",
        "    for _ in range(iterations):\n",
        "        # Generate paths for each ant\n",
        "        all_possible_paths =ant_tour(pheromones)\n",
        "\n",
        "\n",
        "        #uncomment this if you do not want the path to consider extral heuristic information of avoiding heavy traffic path\n",
        "        # distances_paths = np.array([cost_function(path, distances) for path in all_possible_paths])\n",
        "        distances_paths = np.array([cost_function(path, distances, traffic_volume, criminal_info, weather_info) for path in all_possible_paths])\n",
        "        min_idx = distances_paths.argmin()\n",
        "        min_distance = distances_paths[min_idx]\n",
        "\n",
        "        if min_distance < infinity:\n",
        "            infinity = min_distance\n",
        "            best_path = all_possible_paths[min_idx]\n",
        "\n",
        "        # Update pheromones\n",
        "        update_pheromones(distances_paths, all_possible_paths, pheromones)\n",
        "    # end_time = time.time()  # End timing\n",
        "    # duration = end_time - start_time  # Calculate duration\n",
        "    # print(all_possible_paths)\n",
        "    # print(\"Time taken to generate the route: {:.2f} seconds\".format(duration))\n",
        "    return best_path, infinity\n"
      ],
      "metadata": {
        "id": "Dc1n0j9sIrUK"
      },
      "execution_count": null,
      "outputs": []
    },
    {
      "cell_type": "code",
      "source": [
        "total_time_list = []\n",
        "cost_list = []\n",
        "#write values of parameters into run_ACO function\n",
        "start_time = time.time()\n",
        "best_path, infinity = run_ACO(distances, ants=30, iterations=100, alpha=0.5, beta=1.5, evaporation_rate=0.5, Q=100)\n",
        "total_time = time.time() - start_time\n",
        "total_time_list.append(total_time)\n",
        "cost_list.append(infinity)"
      ],
      "metadata": {
        "id": "OuDoWyfRYzwp"
      },
      "execution_count": null,
      "outputs": []
    },
    {
      "cell_type": "code",
      "source": [
        "#print the route and its length\n",
        "ants_tour=[]\n",
        "for i in best_path:\n",
        "  ants_tour.append(city_names[i])\n",
        "# ants_tour=[city_names[i] for i in best_path]\n",
        "route_names = \" → \".join(ants_tour)\n",
        "print(\"route_names:\", route_names)\n",
        "# print(\"route length:\", np.round(infinity, 3))#round it to 3 decimal places"
      ],
      "metadata": {
        "id": "7G4hPsskIvfq"
      },
      "execution_count": null,
      "outputs": []
    },
    {
      "cell_type": "markdown",
      "source": [
        "The figure below show the route successfully go around (detour) the high-crime road and high-traffic road to improve the safety of students"
      ],
      "metadata": {
        "id": "72Ei4FbV6tQC"
      }
    },
    {
      "cell_type": "code",
      "source": [
        "fig, ax = plt.subplots(figsize=(15,10))\n",
        "# H = G.copy()\n",
        "\n",
        "\n",
        "# Initialize an empty dictionary for the reversed value because Network assumes data in (horizontal,vertical)\n",
        "reversed_dict = {}\n",
        "for key, value in city_dic.items():# Loop and reverse each value\n",
        "    reversed_dict[key] = value[::-1]\n",
        "#store ants_tour\n",
        "edge_list =list(nx.utils.pairwise(ants_tour))\n",
        "nx.draw_networkx_edges(H, pos=reversed_dict, edge_color=\"gray\", width=0.5)\n",
        "edge_labels = {\n",
        "    ('DVP_End/Enter', 'DVP_Enter/End'): 'Heavy Traffic',  # Label for heavy traffic\n",
        "    ('Thorncliffe Parl Public School', 'Intersection 2 (Lawrence&Don Mills)'): 'High Crime'  # Label for high crime\n",
        "}\n",
        "# Draw the network\n",
        "ax=nx.draw_networkx(\n",
        "    H,\n",
        "    pos=reversed_dict,#pos is the coordates of nodes\n",
        "    with_labels=True,#display names\n",
        "    edgelist=edge_list, #only draw the tour that is stored in the edge_list\n",
        "    edge_color=\"red\",\n",
        "    node_size=200,\n",
        "    width=2,#thickness of edge\n",
        ")\n",
        "\n",
        "nx.draw_networkx_edge_labels(\n",
        "    H,\n",
        "    pos=reversed_dict,\n",
        "    edge_labels=edge_labels,\n",
        "    font_color='red',\n",
        ")\n",
        "plt.show()"
      ],
      "metadata": {
        "id": "2PgeIlIHUh3Y"
      },
      "execution_count": null,
      "outputs": []
    },
    {
      "cell_type": "code",
      "source": [
        "# Use the default parameter, beta=0.5\n",
        "start_time = time.time()\n",
        "best_path, infinity = run_ACO(distances, ants=30, iterations=100, alpha=0.5, beta=0.5, evaporation_rate=0.5, Q=100)\n",
        "total_time = time.time() - start_time\n",
        "total_time_list.append(total_time)\n",
        "cost_list.append(infinity)"
      ],
      "metadata": {
        "id": "hcmnSwWSWs76"
      },
      "execution_count": null,
      "outputs": []
    },
    {
      "cell_type": "code",
      "source": [
        "#print the route and its length\n",
        "ants_tour=[]\n",
        "for i in best_path:\n",
        "  ants_tour.append(city_names[i])\n",
        "# ants_tour=[city_names[i] for i in best_path]\n",
        "route_names = \" → \".join(ants_tour)\n",
        "print(\"route_names:\", route_names)\n",
        "# print(\"route length:\", np.round(infinity, 3))#round it to 3 decimal places"
      ],
      "metadata": {
        "id": "1B5BpbsUW95s"
      },
      "execution_count": null,
      "outputs": []
    },
    {
      "cell_type": "code",
      "source": [
        "fig, ax = plt.subplots(figsize=(15,10))\n",
        "# H = G.copy()\n",
        "\n",
        "\n",
        "# Initialize an empty dictionary for the reversed value because Network assumes data in (horizontal,vertical)\n",
        "reversed_dict = {}\n",
        "for key, value in city_dic.items():# Loop and reverse each value\n",
        "    reversed_dict[key] = value[::-1]\n",
        "#store ants_tour\n",
        "edge_list =list(nx.utils.pairwise(ants_tour))\n",
        "nx.draw_networkx_edges(H, pos=reversed_dict, edge_color=\"gray\", width=0.5)\n",
        "edge_labels = {\n",
        "    ('DVP_End/Enter', 'DVP_Enter/End'): 'Heavy Traffic',  # Label for heavy traffic\n",
        "    ('Thorncliffe Parl Public School', 'Intersection 2 (Lawrence&Don Mills)'): 'High Crime'  # Label for high crime\n",
        "}\n",
        "# Draw the network\n",
        "ax=nx.draw_networkx(\n",
        "    H,\n",
        "    pos=reversed_dict,#pos is the coordates of nodes\n",
        "    with_labels=True,#display names\n",
        "    edgelist=edge_list, #only draw the tour that is stored in the edge_list\n",
        "    edge_color=\"red\",\n",
        "    node_size=200,\n",
        "    width=2,#thickness of edge\n",
        ")\n",
        "\n",
        "nx.draw_networkx_edge_labels(\n",
        "    H,\n",
        "    pos=reversed_dict,\n",
        "    edge_labels=edge_labels,\n",
        "    font_color='red',\n",
        ")\n",
        "plt.show()"
      ],
      "metadata": {
        "id": "VkTPVbJ2XA8j"
      },
      "execution_count": null,
      "outputs": []
    },
    {
      "cell_type": "code",
      "source": [
        "cost_result = pd.DataFrame({'Expriment':['Default', 'EX1'], 'Cost':[\n",
        "    cost_list[1],\n",
        "    cost_list[0]\n",
        "]})\n",
        "cost_result.plot.bar(x='Expriment', y='Cost',rot=0)"
      ],
      "metadata": {
        "id": "76XmIwZmYXpG"
      },
      "execution_count": null,
      "outputs": []
    },
    {
      "cell_type": "code",
      "source": [
        "time_result = pd.DataFrame({'Expriment':['Default', 'EX1'], 'Time':[\n",
        "    total_time_list[1],\n",
        "    total_time_list[0]\n",
        "]})\n",
        "time_result.plot.bar(x='Expriment', y='Time', rot=0)"
      ],
      "metadata": {
        "id": "sbqHGNC0bmxh"
      },
      "execution_count": null,
      "outputs": []
    }
  ]
}